{
 "cells": [
  {
   "cell_type": "code",
   "execution_count": 9,
   "metadata": {},
   "outputs": [
    {
     "name": "stdout",
     "output_type": "stream",
     "text": [
      "                            OLS Regression Results                            \n",
      "==============================================================================\n",
      "Dep. Variable:                 target   R-squared:                       0.528\n",
      "Model:                            OLS   Adj. R-squared:                  0.514\n",
      "Method:                 Least Squares   F-statistic:                     38.25\n",
      "Date:                Mon, 02 Dec 2024   Prob (F-statistic):           5.41e-50\n",
      "Time:                        17:18:20   Log-Likelihood:                -1906.1\n",
      "No. Observations:                 353   AIC:                             3834.\n",
      "Df Residuals:                     342   BIC:                             3877.\n",
      "Df Model:                          10                                         \n",
      "Covariance Type:            nonrobust                                         \n",
      "==============================================================================\n",
      "                 coef    std err          t      P>|t|      [0.025      0.975]\n",
      "------------------------------------------------------------------------------\n",
      "const        151.3456      2.902     52.155      0.000     145.638     157.053\n",
      "age           37.9040     69.056      0.549      0.583     -97.923     173.731\n",
      "sex         -241.9644     68.570     -3.529      0.000    -376.836    -107.093\n",
      "bmi          542.4288     76.956      7.049      0.000     391.062     693.795\n",
      "bp           347.7038     71.357      4.873      0.000     207.350     488.057\n",
      "s1          -931.4888    451.138     -2.065      0.040   -1818.844     -44.134\n",
      "s2           518.0623    364.114      1.423      0.156    -198.122    1234.247\n",
      "s3           163.4200    233.014      0.701      0.484    -294.901     621.741\n",
      "s4           275.3179    185.400      1.485      0.138     -89.349     639.985\n",
      "s5           736.1989    192.437      3.826      0.000     357.689    1114.709\n",
      "s6            48.6707     73.435      0.663      0.508     -95.771     193.113\n",
      "==============================================================================\n",
      "Omnibus:                        1.457   Durbin-Watson:                   1.794\n",
      "Prob(Omnibus):                  0.483   Jarque-Bera (JB):                1.412\n",
      "Skew:                           0.064   Prob(JB):                        0.494\n",
      "Kurtosis:                       2.718   Cond. No.                         219.\n",
      "==============================================================================\n",
      "\n",
      "Notes:\n",
      "[1] Standard Errors assume that the covariance matrix of the errors is correctly specified.\n"
     ]
    }
   ],
   "source": [
    "import statsmodels.api as sm\n",
    "from sklearn.datasets import load_diabetes\n",
    "from sklearn.model_selection import train_test_split\n",
    "\n",
    "data = load_diabetes(as_frame=True)\n",
    "X, y = data.data, data.target\n",
    "\n",
    "\n",
    "X = sm.add_constant(X) \n",
    "X_train, X_test, y_train, y_test = train_test_split(X, y, test_size=0.2, random_state=42)\n",
    "ols_model = sm.OLS(y_train, X_train).fit()\n",
    "\n",
    "print(ols_model.summary())\n"
   ]
  }
 ],
 "metadata": {
  "kernelspec": {
   "display_name": "Python 3",
   "language": "python",
   "name": "python3"
  },
  "language_info": {
   "codemirror_mode": {
    "name": "ipython",
    "version": 3
   },
   "file_extension": ".py",
   "mimetype": "text/x-python",
   "name": "python",
   "nbconvert_exporter": "python",
   "pygments_lexer": "ipython3",
   "version": "3.12.5"
  }
 },
 "nbformat": 4,
 "nbformat_minor": 2
}
